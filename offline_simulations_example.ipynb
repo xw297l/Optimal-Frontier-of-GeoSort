{
 "cells": [
  {
   "cell_type": "code",
   "execution_count": 1,
   "id": "fdffc003-bd3a-4ba1-bbaa-b5eaacb1d01d",
   "metadata": {},
   "outputs": [],
   "source": [
    "import os\n",
    "import sys\n",
    "\n",
    "sys.path.insert(0,'/home/jupyter/git-repos/substitution-offline-simulation/') # add repository path to identify local modules\n",
    "from src.helper_functions import *\n",
    "from src.database_handler import DatabaseHandler"
   ]
  },
  {
   "cell_type": "code",
   "execution_count": 2,
   "id": "7a3705f6-0e22-44ac-82f7-17acc16efc28",
   "metadata": {
    "tags": []
   },
   "outputs": [
    {
     "name": "stdout",
     "output_type": "stream",
     "text": [
      "Step 1/5: Grabbing the newest bubblesort dict...\n",
      "Step 2/5: Create SKU dictionaries for VCD, RCTS, Shipping, Shipping Savings for 5 and 20 region models\n",
      "Step 3/5: Generate top 192 Bubblesort candidates for each class\n",
      "Step 4/5: Create out-of-region anchor sku substitutes dictionaries for generated bubblesort skus\n",
      "Fetching anchor-substitutes from 5 region offline pipeline...\n",
      "Fetching anchor-substitutes from 20 region offline pipeline...\n",
      "step 5/5: Loading functions for different test lanes, geosort, substitution functions\n"
     ]
    }
   ],
   "source": [
    "from src.generate_simulations import *"
   ]
  },
  {
   "cell_type": "code",
   "execution_count": 3,
   "id": "3b76219f-1771-4f7c-b652-ae538dac4a8c",
   "metadata": {},
   "outputs": [],
   "source": [
    "df_full_geo = run_simulations(arms = ARMS, max_pos=MAX_POS,max_subs=MAX_SUBS)"
   ]
  },
  {
   "cell_type": "code",
   "execution_count": 5,
   "id": "426f7a6a-90c4-4fbf-afea-fe5bcbffae7c",
   "metadata": {},
   "outputs": [
    {
     "name": "stdout",
     "output_type": "stream",
     "text": [
      "                pos   sort_scores    vcd_values  shipping_values  \\\n",
      "count  34560.000000  34560.000000  34560.000000     34560.000000   \n",
      "mean      96.500000      0.293846    120.677383        37.607824   \n",
      "std       55.425676      0.284612    117.189836        46.929033   \n",
      "min        1.000000     -0.438421   -275.030000         4.771622   \n",
      "25%       48.750000      0.093372     45.700000        12.295657   \n",
      "50%       96.500000      0.324403     80.330000        21.690000   \n",
      "75%      144.250000      0.582376    158.020000        44.732500   \n",
      "max      192.000000      1.000000    753.739431       527.380000   \n",
      "\n",
      "       shipping_savings_values    cvr_scores  normalized_cvr_scores  \\\n",
      "count             34560.000000  34560.000000           34560.000000   \n",
      "mean                  0.417074      0.004328               0.531288   \n",
      "std                  21.240827      0.001785               0.149229   \n",
      "min                -192.330000      0.000550               0.084566   \n",
      "25%                  -1.650000      0.002502               0.384264   \n",
      "50%                   0.000000      0.004710               0.582376   \n",
      "75%                   2.529015      0.005934               0.648328   \n",
      "max                 325.780000      0.009194               1.000000   \n",
      "\n",
      "       normalized_scores         alpha           geo          clid  \\\n",
      "count       34560.000000  34560.000000  34560.000000  34560.000000   \n",
      "mean            0.415752      0.250000      9.666667    236.000000   \n",
      "std             0.333004      0.250004      5.944271     69.000998   \n",
      "min             0.000000      0.000000      1.000000    167.000000   \n",
      "25%             0.102899      0.000000      4.000000    167.000000   \n",
      "50%             0.375443      0.250000      9.000000    236.000000   \n",
      "75%             0.667571      0.500000     15.000000    305.000000   \n",
      "max             1.000000      0.500000     20.000000    305.000000   \n",
      "\n",
      "             sample  \n",
      "count  34560.000000  \n",
      "mean       0.888889  \n",
      "std        0.314274  \n",
      "min        0.000000  \n",
      "25%        1.000000  \n",
      "50%        1.000000  \n",
      "75%        1.000000  \n",
      "max        1.000000  \n"
     ]
    }
   ],
   "source": [
    "#print(df_full_geo.head())\n",
    "print(df_full_geo.head())\n",
    "#df_full_geo.to_pickle(\"df_full_geo.pkl\")"
   ]
  },
  {
   "cell_type": "markdown",
   "id": "e5d71d23-29c5-427c-9327-2d06cfdcc857",
   "metadata": {},
   "source": [
    "**Note: Dataframe 'df_full_geo' now contains simulated default pageloads for the chosen configurations in {local_path}/substitution-offline-simulation/constants.py**\n",
    "\n",
    "Next steps (optional): \n",
    "- Add information about if price, reviews, ratings, sku positioning, counterfactual model estimations to the simulations dataframe\n",
    "- Check impression weighted analysis between two arms for each region Ex: {20 Region bubblesort (no alpha) - Substitution (alpha)}\n",
    "- Check order-weighted average between two arms across all regions"
   ]
  },
  {
   "cell_type": "markdown",
   "id": "3fce4a3f-8234-4277-a8a4-f0d4a8166b99",
   "metadata": {},
   "source": [
    "## Add well-positioned column if needed for the analysis"
   ]
  },
  {
   "cell_type": "code",
   "execution_count": 6,
   "id": "33cac895-d472-4cc4-bf30-f4e53be9eef8",
   "metadata": {},
   "outputs": [],
   "source": [
    "## optional - skip if not needed\n",
    "anchor_mapdf = pd.DataFrame.from_dict(anchor_map_20region, orient = 'index').reset_index()\n",
    "anchor_map20_long = pd.melt(anchor_mapdf, id_vars='index')\n",
    "anchor_map20_long.columns = ['geo', 'sku', 'recskus']\n",
    "anchor_map20_long['region_model'] = '20region'\n",
    "anchor_map20_long['well_positioned'] = 0\n",
    "anchor_map20_long.loc[anchor_map20_long.recskus.isna(),'well_positioned'] = 1\n",
    "\n",
    "\n",
    "anchor_mapdf = pd.DataFrame.from_dict(anchor_map_5region, orient = 'index').reset_index()\n",
    "anchor_map5_long = pd.melt(anchor_mapdf, id_vars='index')\n",
    "anchor_map5_long.columns = ['geo', 'sku', 'recskus']\n",
    "anchor_map5_long['region_model'] = '5region'\n",
    "anchor_map5_long['well_positioned'] = 0\n",
    "anchor_map5_long.loc[anchor_map5_long.recskus.isna(),'well_positioned'] = 1\n",
    "\n",
    "\n",
    "df_full_geo_20reg = pd.merge(df_full_geo[df_full_geo.arm != 'control'], anchor_map20_long, on = ['geo','sku'], how = 'left')\n",
    "df_full_geo_20reg.loc[df_full_geo_20reg.well_positioned.isna(), \"well_positioned\"] = 1\n",
    "df_full_geo_20reg.loc[df_full_geo_20reg.well_positioned.isna(), \"region_model\"] = \"20region\"\n",
    "\n",
    "df_full_geo_5reg = pd.merge(df_full_geo[df_full_geo.arm == 'control'], anchor_map5_long, on = ['geo','sku'], how = 'left')\n",
    "df_full_geo_5reg.loc[df_full_geo_5reg.well_positioned.isna(), \"well_positioned\"] = 1\n",
    "\n",
    "\n",
    "df_full_geo = df_full_geo_5reg.append(df_full_geo_20reg).reset_index(drop=True)"
   ]
  },
  {
   "cell_type": "code",
   "execution_count": 7,
   "id": "ee045af6-4c24-4be8-9dee-ae0c00e45342",
   "metadata": {},
   "outputs": [],
   "source": [
    "# Get additional metrics avg price, rating, reviews on all simulations dataframe\n",
    "df_full_geo_metrics = get_additional_metrics(df_full_geo, CLASSES_COVERED)"
   ]
  },
  {
   "cell_type": "code",
   "execution_count": 8,
   "id": "73af15a0-417a-4cf0-87df-9ddd1bde4ea4",
   "metadata": {},
   "outputs": [
    {
     "name": "stdout",
     "output_type": "stream",
     "text": [
      "   pos       sku  sort_scores  vcd_values  shipping_values  \\\n",
      "0    1  OPCO7411     0.670186   22.355685        21.498818   \n",
      "1    2  PBVR5363     0.644301   14.619063         7.999539   \n",
      "2    3  BDJK1193     0.608410   58.681861        10.964452   \n",
      "3    4  MCCY4357     0.612760   47.572268         9.944685   \n",
      "4    5  FSTI1732     0.816176   24.117307        16.608900   \n",
      "\n",
      "   shipping_savings_values  cvr_scores  normalized_cvr_scores  \\\n",
      "0                -9.519491    0.006162               0.670186   \n",
      "1                 0.125153    0.005924               0.644301   \n",
      "2                 2.268656    0.005594               0.608410   \n",
      "3                 0.748651    0.005634               0.612760   \n",
      "4                 0.000000    0.007504               0.816176   \n",
      "\n",
      "   normalized_scores alpha geo  source_type      arm  clid  sample recskus  \\\n",
      "0           0.105811   0.0   1       hedwig  control   167       0     NaN   \n",
      "1           0.000000   0.0   1       hedwig  control   167       0     NaN   \n",
      "2           0.000000   0.0   1       hedwig  control   167       0     NaN   \n",
      "3           0.000000   0.0   1       hedwig  control   167       0     NaN   \n",
      "4           0.000000   0.0   1  round_robin  control   167       0     NaN   \n",
      "\n",
      "  region_model  well_positioned  row  cutoff  \n",
      "0          NaN              1.0  1.0      12  \n",
      "1      5region              1.0  1.0      12  \n",
      "2          NaN              1.0  1.0      12  \n",
      "3          NaN              1.0  2.0      12  \n",
      "4      5region              1.0  2.0      12  \n"
     ]
    }
   ],
   "source": [
    "print(df_full_geo.head())"
   ]
  },
  {
   "cell_type": "markdown",
   "id": "93bb7ae8-2c08-49d0-82fc-6a67c96c5aa8",
   "metadata": {},
   "source": [
    "## Counterfactual model predictions\n",
    "\n",
    "We can use counterfactual model to predict the probability of customer conversion in addition to bubblesort scores used to represent conversion score. Please refer to the MVP \n",
    "[document](https://docs.google.com/document/d/14c5YCYPjugfdtosP2dhPP6SAVCV3YbSlpS-1doxf4DU/edit#) "
   ]
  },
  {
   "cell_type": "code",
   "execution_count": null,
   "id": "9cd2620f-88d8-49eb-91ae-df4e3d5b5902",
   "metadata": {},
   "outputs": [],
   "source": [
    "## Add counterfactual model predictions\n",
    "\n",
    "from sub_v15_cfmodel.scorer import CounterfactualScorer\n",
    "# Instantiate purchase model\n",
    "# User older VCD table for 5 region model\n",
    "cvr_scorer_5region = CounterfactualScorer(\n",
    "    rcts_table=VCD_TABLE_NAME, \n",
    "    ship_dist_table=SHIP_DIST_NAME_5REGION\n",
    ")\n",
    "# Use up to date VCD table for 20 region model\n",
    "cvr_scorer_20region = CounterfactualScorer(\n",
    "    rcts_table=VCD_TABLE_NAME_20REGION,\n",
    "    ship_dist_table=SHIP_DIST_NAME_20REGION\n",
    ")\n",
    "\n",
    "# Get conversion rate probabilities\n",
    "# These don't depend on geo, will be the same with either model\n",
    "# These will need to be multiplied by the number of pageloads to get total orders\n",
    "# Note that we will need to rename a couple of columns to match how the model was trained\n",
    "# Recent date for getting features\n",
    "event_date = '2022-07-12'\n",
    "\n",
    "sku_df = df_full_geo_metrics[['pos', 'sku', 'clid']].rename(columns={'pos': 'skupagerank', 'clid': 'classid'})\n",
    "results_df = cvr_scorer_5region.predict(sku_df, event_date)\n",
    "df_full_geo_metrics['cf_score'] = results_df['cf_score']"
   ]
  },
  {
   "cell_type": "code",
   "execution_count": null,
   "id": "412c95ec-9800-4521-b365-a4c97f5d7cc3",
   "metadata": {},
   "outputs": [],
   "source": [
    "# with open('df_full_geo_metrics_7_15_2022.pkl', 'wb') as file:\n",
    "#     pickle.dump(df_full_geo_metrics, file)"
   ]
  },
  {
   "cell_type": "markdown",
   "id": "5821ce76-4594-42ff-8572-524d4be98c3a",
   "metadata": {},
   "source": [
    "### Arguments for creating plots {Control (group1) - Test (group2)}\n",
    "\n",
    "1. df_full_geo_metrics (DataFrame): output from get_additional_metrics function\n",
    "2. control_alpha (float): Pick an alpha value of interest between 0.0 - 1.0\n",
    "3. control_arm (String): Pick an arm of interest between control, variation2, variation3, reg20_bubblesort\n",
    "2. test_alpha (float): Pick an alpha value of interest between 0.0 - 1.0\n",
    "3. test_arm (String): Pick an arm of interest between control, variation2, variation3, reg20_bubblesort\n",
    "4. estimation (String): Choose between two averaging methods while aggregating between position cutoffs\n",
    "       - \"simple\" averages between SKU metrics across chosen classes for a given geo on skus between 1-12, 12-48, 48-96, 96-144, 144-192\n",
    "       - \"rolling\" averages between SKU metrics across chosen classes for a given geo on skus between 1-12, 1-48, 1-96, 1-144, 1-192"
   ]
  },
  {
   "cell_type": "markdown",
   "id": "d32451d7-8ffa-40c6-8ffb-8dfb56f357cd",
   "metadata": {},
   "source": [
    "# Impression weighted analysis {20 Region bubblesort (no alpha) - Substitution (alpha)}\n",
    "\n",
    "- We have analysis functions that assigns different weights on skus based on their classses. We will be fetching visits(impressions) on all the classes for calculating the difference between weight proportioned Alpha = 0.0 group and Alpha > 0.0 group"
   ]
  },
  {
   "cell_type": "code",
   "execution_count": 9,
   "id": "38ac4b88-3780-42ce-bbba-1d95c517e1ed",
   "metadata": {},
   "outputs": [],
   "source": [
    "# Daterange to pull impressions and orders for weighthed averages. Set \n",
    "start_date = \"2022-05-01\"\n",
    "end_date = \"2022-06-01\"\n",
    "\n",
    "db_handler = DatabaseHandler()"
   ]
  },
  {
   "cell_type": "code",
   "execution_count": 11,
   "id": "e8cef6fb-1289-415c-bd49-d68775420660",
   "metadata": {},
   "outputs": [],
   "source": [
    "# pull impressions by class, pos, region for a timerange (change dates as needed for your analysis)\n",
    "# please change the time period to fit to your analysis\n",
    "df_visits = db_handler.get_impressions_by_pos_plus_clid_region(\n",
    "    CLASSES_COVERED,\n",
    "    SOID,\n",
    "    #metrics,\n",
    "    start_date,\n",
    "    end_date,\n",
    "    GEOS,\n",
    "    CUSTOMER_REGION_MAPPING['20region'],\n",
    "    SUPPLIER_REGION_MAPPING['20region'],\n",
    ")\n",
    "\n",
    "df_visits.to_pickle(\"df_visits.pkl\")\n",
    "# with open('df_visits_06_15_2022.pkl', 'wb') as file:\n",
    "#     pickle.dump(df_visits, file)"
   ]
  },
  {
   "cell_type": "code",
   "execution_count": null,
   "id": "f6ad21eb-6ed1-4b78-8761-481e36d81b74",
   "metadata": {},
   "outputs": [],
   "source": [
    "with open('df_visits_06_15_2022.pkl', 'rb') as file:\n",
    "    df_visits = pickle.load(file)"
   ]
  },
  {
   "cell_type": "code",
   "execution_count": null,
   "id": "edfb2fb4-a101-437d-ab5e-939cd21671d4",
   "metadata": {},
   "outputs": [],
   "source": [
    "metrics"
   ]
  },
  {
   "cell_type": "code",
   "execution_count": null,
   "id": "c7a8d0be-c5fa-4b4e-bcff-ba771def7bab",
   "metadata": {
    "tags": []
   },
   "outputs": [],
   "source": [
    "df_full_geo_metrics"
   ]
  },
  {
   "cell_type": "markdown",
   "id": "2bbd4ed3-9e35-49c1-948d-229ffbd1593d",
   "metadata": {},
   "source": [
    "### Arguments for creating plots {Control (group1) - Test (group2)}\n",
    "\n",
    "1. df_full_geo_metrics (DataFrame): output from get_additional_metrics function\n",
    "2. control_alpha (float): Pick an alpha value of interest between 0.0 - 1.0\n",
    "3. control_arm (String): Pick an arm of interest between control, variation2, variation3, reg20_bubblesort\n",
    "2. test_alpha (float): Pick an alpha value of interest between 0.0 - 1.0\n",
    "3. test_arm (String): Pick an arm of interest between control, variation2, variation3, reg20_bubblesort\n",
    "4. estimation (String): Choose between two averaging methods while aggregating between position cutoffs\n",
    "       - \"simple\" averages between SKU metrics across chosen classes for a given geo on skus between 1-12, 12-48, 48-96, 96-144, 144-192\n",
    "       - \"rolling\" averages between SKU metrics across chosen classes for a given geo on skus between 1-12, 1-48, 1-96, 1-144, 1-192"
   ]
  },
  {
   "cell_type": "code",
   "execution_count": null,
   "id": "105ca3ee-6b5a-447e-b5ce-cb8d5f92558e",
   "metadata": {},
   "outputs": [],
   "source": [
    "control_alpha = 0.0\n",
    "control_arm = \"reg20_geosort\"\n",
    "test_alpha = 0.5\n",
    "test_arm = \"variationA\"\n",
    "estimation = \"rolling\"\n",
    "plot_comparison(\n",
    "    df_full_geo_metrics, control_alpha, test_alpha, control_arm, test_arm, estimation\n",
    ")"
   ]
  },
  {
   "cell_type": "code",
   "execution_count": null,
   "id": "4e2eae5e-e23b-46a6-b77b-dee2075bb605",
   "metadata": {
    "tags": []
   },
   "outputs": [],
   "source": [
    "df_metrics = pd.DataFrame()\n",
    "\n",
    "control_alpha = 0.0\n",
    "control_arm = \"reg20_geosort\"\n",
    "test_alpha = 0.0\n",
    "test_arm = \"variationA\"\n",
    "estimation = \"rolling\"\n",
    "df_metrics = df_metrics.append(\n",
    "    get_impression_weighted_avg(\n",
    "        df_full_geo_metrics,\n",
    "        df_visits,\n",
    "        control_alpha,\n",
    "        test_alpha,\n",
    "        control_arm,\n",
    "        test_arm,\n",
    "        estimation,\n",
    "    )\n",
    ")"
   ]
  },
  {
   "cell_type": "code",
   "execution_count": null,
   "id": "a78820c3-7e05-4891-a2a0-f541f4c6d4f4",
   "metadata": {
    "tags": []
   },
   "outputs": [],
   "source": [
    "control_alpha = 0.0\n",
    "control_arm = \"reg20_geosort\"\n",
    "test_alpha = 0.5\n",
    "test_arm = \"variationA\"\n",
    "estimation = \"rolling\"\n",
    "df_metrics = df_metrics.append(\n",
    "    get_impression_weighted_avg(\n",
    "        df_full_geo_metrics,\n",
    "        df_visits,\n",
    "        control_alpha,\n",
    "        test_alpha,\n",
    "        control_arm,\n",
    "        test_arm,\n",
    "        estimation,\n",
    "    )\n",
    ")"
   ]
  },
  {
   "cell_type": "markdown",
   "id": "c16b5f70-9d5b-4dbd-8107-976ed3cb9d4d",
   "metadata": {},
   "source": [
    "## Order weighted Aggregated difference"
   ]
  },
  {
   "cell_type": "code",
   "execution_count": null,
   "id": "5975ee9c-9312-4569-896d-a78f33d3cb9a",
   "metadata": {},
   "outputs": [],
   "source": [
    "region_order_weights = db_handler.get_region_order_weights(\n",
    "        start_date,\n",
    "        end_date,\n",
    "        region_model='20region'\n",
    ")\n",
    "\n",
    "region_order_weights[\n",
    "    \"order_weights\"\n",
    "] = region_order_weights.order_count_by_region / np.sum(\n",
    "    region_order_weights.order_count_by_region\n",
    ")\n",
    "\n",
    "df_metrics = pd.merge(df_metrics, region_order_weights, on=\"customer_region_id\")\n",
    "\n",
    "\n",
    "df_metrics_order_weighted = df_metrics.loc[\n",
    "    :,\n",
    "    [\n",
    "        \"customer_region_id\",\n",
    "        \"grp1\",\n",
    "        \"grp1_alpha\",\n",
    "        \"grp2\",\n",
    "        \"grp2_alpha\",\n",
    "        \"shipping_values\",\n",
    "        \"vcd_values\",\n",
    "        \"shipping_savings_values\",\n",
    "        \"cvr_scores\",\n",
    "        \"cf_scores\"\n",
    "        \"order_weights\",\n",
    "    ],\n",
    "].sort_values(by=[\"grp1\", \"grp1_alpha\", \"grp2\", \"grp2_alpha\", \"customer_region_id\"])\n",
    "df_metrics_order_weighted[\"order_adjusted_cvr_diff\"] = (\n",
    "    df_metrics_order_weighted[\"cvr_scores\"] * df_metrics_order_weighted[\"order_weights\"]\n",
    ")\n",
    "df_metrics_order_weighted[\"order_adjusted_cf_scores\"] = (\n",
    "    df_metrics_order_weighted[\"cf_scores\"] * df_metrics_order_weighted[\"order_weights\"]\n",
    ")\n",
    "df_metrics_order_weighted[\"order_adjusted_shipping_value_diff\"] = (\n",
    "    df_metrics_order_weighted[\"shipping_values\"]\n",
    "    * df_metrics_order_weighted[\"order_weights\"]\n",
    ")\n",
    "df_metrics_order_weighted[\"order_adjusted_vcd_diff\"] = (\n",
    "    df_metrics_order_weighted[\"vcd_values\"] * df_metrics_order_weighted[\"order_weights\"]\n",
    ")\n",
    "df_metrics_order_weighted[\"order_adjusted_shipping_savings_diff\"] = (\n",
    "    df_metrics_order_weighted[\"shipping_savings_values\"] * df_metrics_order_weighted[\"order_weights\"]\n",
    ")\n",
    "\n",
    "df_metrics_order_weighted[\n",
    "    [\n",
    "        \"grp1\",\n",
    "        \"grp1_alpha\",\n",
    "        \"grp2\",\n",
    "        \"grp2_alpha\",\n",
    "        \"order_adjusted_cvr_diff\",\n",
    "        \"order_adjusted_cf_scores\",\n",
    "        \"order_adjusted_shipping_value_diff\",\n",
    "        \"order_adjusted_vcd_diff\",\n",
    "        \"order_adjusted_shipping_savings_diff\"\n",
    "    ]\n",
    "].groupby([\"grp1\", \"grp1_alpha\", \"grp2\", \"grp2_alpha\"]).sum().reset_index()"
   ]
  },
  {
   "cell_type": "code",
   "execution_count": null,
   "id": "96bad292-a045-4aa5-9be1-5e211be37a65",
   "metadata": {},
   "outputs": [],
   "source": []
  }
 ],
 "metadata": {
  "environment": {
   "kernel": "infra-defaults",
   "name": "common-cpu.m93",
   "type": "gcloud",
   "uri": "gcr.io/deeplearning-platform-release/base-cpu:m93"
  },
  "kernelspec": {
   "display_name": "infra-defaults",
   "language": "python",
   "name": "infra-defaults"
  },
  "language_info": {
   "codemirror_mode": {
    "name": "ipython",
    "version": 3
   },
   "file_extension": ".py",
   "mimetype": "text/x-python",
   "name": "python",
   "nbconvert_exporter": "python",
   "pygments_lexer": "ipython3",
   "version": "3.9.12"
  }
 },
 "nbformat": 4,
 "nbformat_minor": 5
}
